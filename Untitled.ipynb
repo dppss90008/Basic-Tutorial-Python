{
 "cells": [
  {
   "cell_type": "markdown",
   "metadata": {},
   "source": [
    "### List \n",
    "list 就像陣列"
   ]
  },
  {
   "cell_type": "code",
   "execution_count": 11,
   "metadata": {},
   "outputs": [
    {
     "name": "stdout",
     "output_type": "stream",
     "text": [
      "3\n",
      "['apple', 'pineapple', 'orange']\n",
      "['apple', 'pineapple', 'orange', 'peach']\n",
      "['apple', 'orange', 'peach']\n",
      "['apple', 'orange', 'peach', 'apple1', 'apple2']\n",
      "['apple', 'orange', 'peach', 'apple2']\n",
      "['apple', 'orange', 'apple3', 'peach', 'apple2']\n"
     ]
    }
   ],
   "source": [
    "fruit = [\"apple\",\"pineapple\",\"orange\"]\n",
    "# 印出陣列內有多少東西\n",
    "print(len(fruit))\n",
    "print(fruit)\n",
    "\n",
    "# 新增東西\n",
    "fruit.append(\"peach\")\n",
    "print(fruit)\n",
    "\n",
    "# 去除東西\n",
    "fruit.pop(1)\n",
    "print(fruit)\n",
    "\n",
    "# 延伸東西\n",
    "fruit.extend([\"apple1\",\"apple2\"])\n",
    "print(fruit)\n",
    "\n",
    "fruit.remove(\"apple1\")\n",
    "print(fruit)\n",
    "\n",
    "fruit.insert(2,\"apple3\")\n",
    "print(fruit)"
   ]
  },
  {
   "cell_type": "code",
   "execution_count": null,
   "metadata": {},
   "outputs": [],
   "source": [
    "list for\n",
    "\n"
   ]
  }
 ],
 "metadata": {
  "kernelspec": {
   "display_name": "Python 3",
   "language": "python",
   "name": "python3"
  },
  "language_info": {
   "codemirror_mode": {
    "name": "ipython",
    "version": 3
   },
   "file_extension": ".py",
   "mimetype": "text/x-python",
   "name": "python",
   "nbconvert_exporter": "python",
   "pygments_lexer": "ipython3",
   "version": "3.7.0"
  }
 },
 "nbformat": 4,
 "nbformat_minor": 2
}

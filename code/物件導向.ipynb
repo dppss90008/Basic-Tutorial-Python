{
 "cells": [
  {
   "cell_type": "code",
   "execution_count": 84,
   "metadata": {
    "collapsed": true
   },
   "outputs": [],
   "source": [
    "class MyClass:\n",
    "    \"\"\"\n",
    "    類別的說明 : 這是一個班級的物件\n",
    "    \"\"\"\n",
    "    \n",
    "    # 定義資料\n",
    "    \n",
    "    people = 0 # 班級裡面的人數\n",
    "    name = []  # 班級裡面的人名\n",
    "        \n",
    "    def add_name(self,name):\n",
    "        \"\"\"\n",
    "        新增新的人進去這個班級\n",
    "        \"\"\" \n",
    "        self.name.append(name)\n",
    "        \n",
    "        # 增加完一個人，人數當然加一位\n",
    "        self.people += 1\n",
    "        \n",
    "    def print_people(self):\n",
    "        \"\"\"\n",
    "        印出現在所有人的人名\n",
    "        \"\"\"\n",
    "        print(self.name)\n",
    "    \n",
    "    def print_num(self):\n",
    "        \"\"\"\n",
    "        回傳這個班級的人數\n",
    "        \"\"\"\n",
    "        return(self.people)"
   ]
  },
  {
   "cell_type": "code",
   "execution_count": 94,
   "metadata": {},
   "outputs": [],
   "source": [
    "# 創立一個班級 A\n",
    "A = MyClass()\n",
    "\n",
    "# 新增兩個人到 A班\n",
    "A.add_name(\"Jhon\")\n",
    "A.add_name(\"May\")\n",
    "\n",
    "# 使用方法\n",
    "A.print_people()\n",
    "A.print_num()"
   ]
  },
  {
   "cell_type": "markdown",
   "metadata": {},
   "source": []
  },
  {
   "cell_type": "code",
   "execution_count": 96,
   "metadata": {
    "collapsed": true
   },
   "outputs": [],
   "source": [
    "A.add_name(\"May\")"
   ]
  },
  {
   "cell_type": "code",
   "execution_count": 97,
   "metadata": {},
   "outputs": [
    {
     "name": "stdout",
     "output_type": "stream",
     "text": [
      "['Jhon', 'May', 'Jhon', 'May', 'Jhon', 'May']\n"
     ]
    }
   ],
   "source": []
  },
  {
   "cell_type": "code",
   "execution_count": 89,
   "metadata": {},
   "outputs": [
    {
     "data": {
      "text/plain": [
       "2"
      ]
     },
     "execution_count": 89,
     "metadata": {},
     "output_type": "execute_result"
    }
   ],
   "source": []
  },
  {
   "cell_type": "code",
   "execution_count": null,
   "metadata": {
    "collapsed": true
   },
   "outputs": [],
   "source": []
  }
 ],
 "metadata": {
  "kernelspec": {
   "display_name": "Python 3",
   "language": "python",
   "name": "python3"
  },
  "language_info": {
   "codemirror_mode": {
    "name": "ipython",
    "version": 3
   },
   "file_extension": ".py",
   "mimetype": "text/x-python",
   "name": "python",
   "nbconvert_exporter": "python",
   "pygments_lexer": "ipython3",
   "version": "3.6.1"
  }
 },
 "nbformat": 4,
 "nbformat_minor": 2
}

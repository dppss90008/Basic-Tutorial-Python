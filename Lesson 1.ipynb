{
 "cells": [
  {
   "cell_type": "markdown",
   "metadata": {},
   "source": [
    "### 資料型態\n",
    "* 數值型別 numeric type \n",
    "    * int: integer 整數(不含小數)\n",
    "    * float: 浮點數(有小數點)\n",
    "    * bool: boolean 布林數(True,false,None)\n",
    "    * complex: 虛數 ex 1+5j\n",
    "- 字串型別 string type\n",
    "    * 文字、字串用\"\"引號包住\n",
    "* 容器型別 container type\n",
    "    * 像是箱子,可以放入資料，箱子也可以放入箱子中\n",
    "    * 有四種資料型別\n",
    "    * tuple () 序對 V X [順序;可更改內容]\n",
    "    * list []  串列 V V\n",
    "    * set {}   集合 X V\n",
    "    * dict {}  字典 X V"
   ]
  },
  {
   "cell_type": "code",
   "execution_count": 13,
   "metadata": {},
   "outputs": [
    {
     "name": "stdout",
     "output_type": "stream",
     "text": [
      "5\n",
      "<class 'int'>\n",
      "5.2\n",
      "5\n",
      "<class 'float'>\n",
      "<class 'int'>\n",
      "<class 'bool'>\n",
      "<class 'complex'>\n"
     ]
    }
   ],
   "source": [
    "# 整數\n",
    "a = 5\n",
    "print(a)\n",
    "print(type(a)) # type() => 可以知道變數內的資料型態\n",
    "# 浮點數\n",
    "b = 5.2\n",
    "print(b)\n",
    "print(int(b)) # int() => 轉換成整數型態\n",
    "print(type(b))\n",
    "print(type(int(b)))\n",
    "\n",
    "# Bool\n",
    "c = True\n",
    "print(type(c))\n",
    "\n",
    "# Complex\n",
    "d = 1+5j\n",
    "print(type(d))"
   ]
  },
  {
   "cell_type": "code",
   "execution_count": 23,
   "metadata": {},
   "outputs": [
    {
     "name": "stdout",
     "output_type": "stream",
     "text": [
      "Hello world\n",
      "H\n",
      "llo\n",
      " \n"
     ]
    }
   ],
   "source": [
    "# 字串\n",
    "s = \"Hello world\"\n",
    "print(s)\n",
    "# 字串可以拆解\n",
    "print(s[0])\n",
    "print(s[2:5])\n",
    "print(s[5]) #空白也是文字"
   ]
  },
  {
   "cell_type": "code",
   "execution_count": 27,
   "metadata": {},
   "outputs": [
    {
     "name": "stdout",
     "output_type": "stream",
     "text": [
      "1\n"
     ]
    }
   ],
   "source": [
    "# tuple\n",
    "t = (1,2,3,\"abc\") # 可以放不同東西\n",
    "print(t[0]) # 有順序\n",
    "\n",
    "# 執行以下程式碼會出錯\n",
    "# t[0] = 5\n",
    "# 為什麼 ? 因為tuple不可更改內容"
   ]
  },
  {
   "cell_type": "code",
   "execution_count": 30,
   "metadata": {},
   "outputs": [
    {
     "name": "stdout",
     "output_type": "stream",
     "text": [
      "apple\n",
      "orange\n"
     ]
    }
   ],
   "source": [
    "# list\n",
    "L = [1,2,3,4,\"apple\"]\n",
    "print(L[4]) # 有順序\n",
    "\n",
    "L[4] = \"orange\" # 可更改內容\n",
    "print(L[4])"
   ]
  },
  {
   "cell_type": "code",
   "execution_count": 39,
   "metadata": {
    "scrolled": true
   },
   "outputs": [
    {
     "name": "stdout",
     "output_type": "stream",
     "text": [
      "{'apple', 1, 2, 3, 4}\n",
      "{'apple', 1, 2, 3, 4, 'orange'}\n"
     ]
    }
   ],
   "source": [
    "# set\n",
    "s = {1,2,3,4,\"apple\"} \n",
    "\n",
    "# 下面會出錯,因為沒有順序\n",
    "#print(s[1])\n",
    "# set可以更改其內容,但是要特殊函式才行更動\n",
    "print(s)\n",
    "s.add(\"orange\")\n",
    "print(s)"
   ]
  },
  {
   "cell_type": "code",
   "execution_count": 36,
   "metadata": {},
   "outputs": [
    {
     "name": "stdout",
     "output_type": "stream",
     "text": [
      "100\n",
      "apple\n",
      "orange\n"
     ]
    }
   ],
   "source": [
    "# dictionary\n",
    "d = {1:100,2:300,\"a\":\"apple\"}\n",
    "# 1,2,\"a\"代表key\n",
    "# 100,300,\"apple\"代表value\n",
    "\n",
    "# d[key] => value\n",
    "# 無順序\n",
    "print(d[1])\n",
    "print(d[\"a\"])\n",
    "\n",
    "# 可以更改內容\n",
    "d[\"a\"] = \"orange\"\n",
    "print(d[\"a\"])"
   ]
  },
  {
   "cell_type": "code",
   "execution_count": 40,
   "metadata": {
    "scrolled": true
   },
   "outputs": [
    {
     "data": {
      "text/plain": [
       "dict"
      ]
     },
     "execution_count": 40,
     "metadata": {},
     "output_type": "execute_result"
    }
   ],
   "source": [
    "# Question: 如何辨認型態??\n",
    "type(d)"
   ]
  }
 ],
 "metadata": {
  "kernelspec": {
   "display_name": "Python 3",
   "language": "python",
   "name": "python3"
  },
  "language_info": {
   "codemirror_mode": {
    "name": "ipython",
    "version": 3
   },
   "file_extension": ".py",
   "mimetype": "text/x-python",
   "name": "python",
   "nbconvert_exporter": "python",
   "pygments_lexer": "ipython3",
   "version": "3.6.1"
  }
 },
 "nbformat": 4,
 "nbformat_minor": 2
}

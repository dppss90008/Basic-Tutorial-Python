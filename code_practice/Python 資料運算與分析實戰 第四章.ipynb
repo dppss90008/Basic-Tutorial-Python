{
 "cells": [
  {
   "cell_type": "markdown",
   "metadata": {},
   "source": [
    "### 4-1 程式撰寫規範\n",
    "程式的寫作風格有嚴格的規範，Python的寫作風格由**PEP8**所規範。\n",
    "\n",
    "在遵守此風格的條件下，不同的程式設計師才能有相似風格，使程式碼容易閱讀。"
   ]
  },
  {
   "cell_type": "markdown",
   "metadata": {},
   "source": [
    "### 宣告編碼\n",
    "- - -\n",
    "Python3 預設編碼為UTF-8，若使用UTF-8話就可以省略\n"
   ]
  },
  {
   "cell_type": "code",
   "execution_count": 1,
   "metadata": {
    "collapsed": true
   },
   "outputs": [],
   "source": [
    "# -*- coding: utf-8 -*-"
   ]
  },
  {
   "cell_type": "markdown",
   "metadata": {},
   "source": [
    "### 縮排\n",
    "- - -\n",
    "PEP8規範使用縮排來顯示整齊的python程式碼\n",
    "\n",
    "* 縮排建議用4個空格進行縮排\n",
    "* 使用  **\\**  忽略縮排"
   ]
  },
  {
   "cell_type": "code",
   "execution_count": 2,
   "metadata": {},
   "outputs": [
    {
     "data": {
      "text/plain": [
       "1"
      ]
     },
     "execution_count": 2,
     "metadata": {},
     "output_type": "execute_result"
    }
   ],
   "source": [
    "def myfunc(n,b):\n",
    "    x = n % b\n",
    "    if x == 0:\n",
    "        return 1\n",
    "    else:\n",
    "        return 0\n",
    "\n",
    "n = 123456\n",
    "b = 3\n",
    "\n",
    "myfunc(n,b)"
   ]
  },
  {
   "cell_type": "code",
   "execution_count": 3,
   "metadata": {},
   "outputs": [
    {
     "name": "stdout",
     "output_type": "stream",
     "text": [
      "10\n"
     ]
    }
   ],
   "source": [
    "a = 5 + \\\n",
    "5\n",
    "\n",
    "print(a)"
   ]
  },
  {
   "cell_type": "markdown",
   "metadata": {},
   "source": [
    "### 註解\n",
    "- - -\n",
    "* 單行註解 以 ***#*** 為開頭\n",
    "* 多行註解 以 \"\"\",\"\"\" 將註解包圍起來"
   ]
  },
  {
   "cell_type": "code",
   "execution_count": null,
   "metadata": {
    "collapsed": true
   },
   "outputs": [],
   "source": [
    "# 這個是單行註解\n",
    "\"\"\"\n",
    "這個是多行註解\n",
    "\"\"\""
   ]
  },
  {
   "cell_type": "markdown",
   "metadata": {},
   "source": [
    "### 基本的程式架構\n",
    "--- ---\n",
    "請打開一個新的python執行"
   ]
  },
  {
   "cell_type": "code",
   "execution_count": 4,
   "metadata": {},
   "outputs": [
    {
     "name": "stdout",
     "output_type": "stream",
     "text": [
      "8\n"
     ]
    }
   ],
   "source": [
    "# -*- coding: utf-8 -*-\n",
    "\"\"\"\n",
    "Author: Xie\n",
    "Development time: 2020-1-30 \n",
    "\"\"\"\n",
    "\n",
    "import numpy as np\n",
    "import matplotlib as mpl\n",
    "\n",
    "def myfunc(x,y):\n",
    "    \"\"\"Introduction of this function\"\"\"\n",
    "    return x+y\n",
    "\n",
    "if __name__ == '__main__':\n",
    "    x,y = 3,5\n",
    "    z = myfunc(x,y)\n",
    "    print(z)"
   ]
  },
  {
   "cell_type": "markdown",
   "metadata": {},
   "source": [
    "完全是以***從其他檔案來匯入使用***為出發點"
   ]
  },
  {
   "cell_type": "code",
   "execution_count": 5,
   "metadata": {
    "collapsed": true,
    "scrolled": true
   },
   "outputs": [],
   "source": [
    "# -*- coding: utf-8 -*-\n",
    "\"\"\"\n",
    "Author: Xie\n",
    "Development time: 2020-1-30 \n",
    "\"\"\"\n",
    "\n",
    "import numpy as np\n",
    "#import matplotlib as mpl\n",
    "\n",
    "def myfunc(x,y):\n",
    "    \"\"\"Introduction of this function\"\"\"\n",
    "    return x+y\n",
    "\n",
    "def myfunc2(x,y):\n",
    "    \"\"\"Introduction of this function\"\"\"\n",
    "    return x-y"
   ]
  },
  {
   "cell_type": "code",
   "execution_count": 8,
   "metadata": {},
   "outputs": [
    {
     "name": "stdout",
     "output_type": "stream",
     "text": [
      "換行\\n換行\n",
      "換行\n",
      "換行\n"
     ]
    }
   ],
   "source": [
    "mystr = r\"換行\\n換行\"\n",
    "print(mystr)\n",
    "mystr1 = \"換行\\n換行\"\n",
    "print(mystr1)"
   ]
  },
  {
   "cell_type": "markdown",
   "metadata": {},
   "source": [
    "### 4-3 序列操作(sequence)\n",
    "--- ---\n",
    "* list、tuple這種有序的資料稱作序列\n",
    "* 指定序列中的特定資料稱為索引 (indexing)\n",
    "* 將一部分資料取出稱為切割 (slicing)"
   ]
  },
  {
   "cell_type": "code",
   "execution_count": 6,
   "metadata": {},
   "outputs": [
    {
     "name": "stdout",
     "output_type": "stream",
     "text": [
      "第一個資料: 2\n",
      "第二個資料: 100\n",
      "序列中的序列: [2, 3]\n",
      "2\n",
      "最後一個序列: [2, 3]\n"
     ]
    }
   ],
   "source": [
    "# 建立一個序列list\n",
    "mylist = [2,100,\"Apple\",[2,3]]\n",
    "\n",
    "# 序列從0開始編號\n",
    "print(\"第一個資料:\",mylist[0])\n",
    "print(\"第二個資料:\",mylist[1])\n",
    "print(\"序列中的序列:\",mylist[3])\n",
    "print(mylist[3][0])\n",
    "print(\"最後一個序列:\",mylist[-1])"
   ]
  },
  {
   "cell_type": "code",
   "execution_count": 7,
   "metadata": {},
   "outputs": [
    {
     "name": "stdout",
     "output_type": "stream",
     "text": [
      "[0, 1, 2]\n",
      "[6, 7]\n",
      "[0, 1, 2, 3, 4, 5]\n",
      "[1, 3, 5, 7]\n"
     ]
    }
   ],
   "source": [
    "# Slicing切割\n",
    "# Sliging 最簡單的功用就是給定特定範圍取出資料\n",
    "# 使用[x:y] 取出 X <= n < y 的資料\n",
    "\n",
    "a = [0,1,2,3,4,5,6,7,8]\n",
    "print(a[0:3])\n",
    "print(a[-3:-1])\n",
    "print(a[:-3])\n",
    "\n",
    "# 當然也可以每隔幾個就取出資料\n",
    "# 比如說想從1開始每隔兩個取出一個資料\n",
    "print(a[1::2])"
   ]
  },
  {
   "cell_type": "markdown",
   "metadata": {
    "collapsed": true
   },
   "source": [
    "### List操作\n",
    "- - -\n",
    "* list 內部資料是可以被修改的"
   ]
  },
  {
   "cell_type": "code",
   "execution_count": 22,
   "metadata": {},
   "outputs": [
    {
     "name": "stdout",
     "output_type": "stream",
     "text": [
      "原本的list:\t\t\t [0, 1, 2, 3, 4, 5, 6, 7, 8]\n",
      "第三個數字已經被修改,new list:\t [0, 1, 99, 3, 4, 5, 6, 7, 8]\n",
      "第三、四號數字已被修改:\t\t [0, 1, 33, 66, 4, 5, 6, 7, 8]\n",
      "新增88:\t\t\t\t [0, 1, 33, 66, 4, 5, 6, 7, 8, 88]\n",
      "移除33:\t\t\t\t [0, 1, 66, 4, 5, 6, 7, 8, 88]\n"
     ]
    }
   ],
   "source": [
    "a = [0,1,2,3,4,5,6,7,8]\n",
    "print(\"原本的list:\\t\\t\\t\",a)\n",
    "# 修改第二個數字為99\n",
    "\n",
    "# 利用 index\n",
    "a[2] = 99\n",
    "print(\"第三個數字已經被修改,new list:\\t\",a)\n",
    "\n",
    "# 利用slice 一次修改一個範圍的資料\n",
    "a[2:4] = [33,66]\n",
    "print(\"第三、四號數字已被修改:\\t\\t\",a)\n",
    "\n",
    "# append 新增數字 88\n",
    "a.append(88)\n",
    "print(\"新增88:\\t\\t\\t\\t\",a)\n",
    "\n",
    "# 移除數字33\n",
    "a.remove(33)\n",
    "print(\"移除33:\\t\\t\\t\\t\",a)\n",
    "\n",
    "# List 其他功能: extend, pop, reverse, sort..."
   ]
  },
  {
   "cell_type": "markdown",
   "metadata": {},
   "source": [
    "### 集合與字典的操作\n",
    "- - -\n",
    "* 無順序性資料 集合(sets); 字典 (dict)\n",
    "* 無法使用index來存取資料"
   ]
  },
  {
   "cell_type": "code",
   "execution_count": 1,
   "metadata": {
    "collapsed": true
   },
   "outputs": [],
   "source": [
    "# 集合型別最大的功能是可以對於兩個集合\n",
    "# 取出聯集(Union), 交集(intersection), 差集(difference)"
   ]
  },
  {
   "cell_type": "markdown",
   "metadata": {},
   "source": [
    "### 變數與資料"
   ]
  },
  {
   "cell_type": "code",
   "execution_count": null,
   "metadata": {
    "collapsed": true
   },
   "outputs": [],
   "source": []
  }
 ],
 "metadata": {
  "kernelspec": {
   "display_name": "Python 3",
   "language": "python",
   "name": "python3"
  },
  "language_info": {
   "codemirror_mode": {
    "name": "ipython",
    "version": 3
   },
   "file_extension": ".py",
   "mimetype": "text/x-python",
   "name": "python",
   "nbconvert_exporter": "python",
   "pygments_lexer": "ipython3",
   "version": "3.6.1"
  }
 },
 "nbformat": 4,
 "nbformat_minor": 2
}

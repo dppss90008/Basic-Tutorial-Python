{
 "cells": [
  {
   "cell_type": "code",
   "execution_count": 1,
   "metadata": {
    "collapsed": true
   },
   "outputs": [],
   "source": [
    "## 第一支程式 - 簡單輸出文字\n",
    "## 請在螢幕中輸出以下畫面\n",
    "\n",
    "#   Hello World!\n",
    "#   This is my first program.\n",
    "\n",
    "# Type code here\n"
   ]
  },
  {
   "cell_type": "code",
   "execution_count": 2,
   "metadata": {
    "collapsed": true
   },
   "outputs": [],
   "source": [
    "## 第二題 輸入兩個整數, 印出兩者相加的結果\n",
    "# Input number1 and number2\n",
    "# Output number1 + number2\n",
    "\n",
    "# Type code here"
   ]
  },
  {
   "cell_type": "code",
   "execution_count": 3,
   "metadata": {
    "collapsed": true
   },
   "outputs": [],
   "source": [
    "# 第三題 輸出練習\n",
    "# 請使用print 來印出如以下的內容：\n",
    "# 每行文字中請用一tab間距隔開(\\t)\n",
    "# 每行文字以換行結尾(\\n)\n",
    "# 每列文字最後無多餘的空白或其它不可見字元(例如空白,\\n,\\t)\n",
    "\n",
    "#姓名      座號  分數\n",
    "#王小明    20    40\n",
    "#鄭小勳    21    100\n",
    "\n",
    "# Type code here"
   ]
  },
  {
   "cell_type": "code",
   "execution_count": 4,
   "metadata": {
    "collapsed": true
   },
   "outputs": [],
   "source": [
    "# 第四題 輸入與輸出\n",
    "# 請輸入一人之 姓名、年齡與性別，並將其列印在螢幕上。\n",
    "#Input Format\n",
    "#姓名\n",
    "#年齡\n",
    "#性別\n",
    "\n",
    "# Input\n",
    "#史帝夫工作\n",
    "#65\n",
    "#男\n",
    "\n",
    "# Output\n",
    "# Name:史帝夫工作\n",
    "# Age:65\n",
    "# Gender:男"
   ]
  },
  {
   "cell_type": "code",
   "execution_count": 5,
   "metadata": {
    "collapsed": true
   },
   "outputs": [],
   "source": [
    "# 第五題 基本輸入輸出交換\n",
    "# 用鍵盤輸入二個整數，再將它交換順序後由螢幕輸出\n",
    "# 輸入 1 9 輸出 9 1"
   ]
  },
  {
   "cell_type": "code",
   "execution_count": 6,
   "metadata": {
    "collapsed": true
   },
   "outputs": [],
   "source": [
    "# 第六題 梯型面積\n",
    "# 請算出此梯型面積\n",
    "# 上底：10cm\n",
    "# 下底：15cm\n",
    "# 高：7cm"
   ]
  },
  {
   "cell_type": "code",
   "execution_count": 20,
   "metadata": {},
   "outputs": [
    {
     "name": "stdout",
     "output_type": "stream",
     "text": [
      "10\n"
     ]
    }
   ],
   "source": [
    "# 第七題 數字位數加總I\n",
    "# 請輸入一4位數的數字，並將每一位的數字加總後印出，例如： n = 1234 ans = 1+2+3+4 = 10"
   ]
  },
  {
   "cell_type": "code",
   "execution_count": 21,
   "metadata": {
    "collapsed": true
   },
   "outputs": [],
   "source": [
    "# 第八題 梯型面積II\n",
    "# 請算出梯型面積\n",
    "# 使用者可依序輸入上底、下底、高\n",
    "# 並輸出計算結果"
   ]
  },
  {
   "cell_type": "code",
   "execution_count": 22,
   "metadata": {
    "collapsed": true
   },
   "outputs": [],
   "source": [
    "# 第九題 圓面積I\n",
    "# 請列出一半徑為100公分的圓形之圓週率，半徑，圓周長及圓面積\n",
    "\n",
    "# Output\n",
    "# 圓周率 3.141592653589793\n",
    "# 半徑 100\n",
    "# 圓周長 628.3185307179587\n",
    "# 圓面積 31415.926535897932\n",
    "\n",
    "# Hint import math\n",
    "# math.pi "
   ]
  },
  {
   "cell_type": "code",
   "execution_count": 26,
   "metadata": {},
   "outputs": [],
   "source": [
    "# 第十題 圓面積II\n",
    "# 令使用者輸入半徑\n",
    "# 請列出圓形之圓週率，半徑，圓周長及圓面積\n",
    "\n",
    "# Output\n",
    "# 圓周率 3.141592653589793\n",
    "# 半徑 100\n",
    "# 圓周長 628.3185307179587\n",
    "# 圓面積 31415.926535897932"
   ]
  },
  {
   "cell_type": "code",
   "execution_count": 27,
   "metadata": {
    "collapsed": true
   },
   "outputs": [],
   "source": [
    "# 第十一題 兩數相加\n",
    "# Input Format\n",
    "# 數字1\n",
    "# 數字2\n",
    "\n",
    "# Output Format\n",
    "# 輸出結果\n",
    "# ※ 「+」號與「=」號左右各有一「空白」字元\n",
    "\n",
    "# 5.1\n",
    "# 2.3\n",
    "# sample output\n",
    "# 5.10 + 2.30 = 7.40"
   ]
  },
  {
   "cell_type": "code",
   "execution_count": 39,
   "metadata": {},
   "outputs": [],
   "source": [
    "# 第十二題 阿宅的學習影片\n",
    "# 阿宅今年已經單身21年了，單生的魔咒他怎麽樣都打不破。\n",
    "# 但他沒有因此感到氣餒，他任然對愛情有信心，希望有一天能遇到對的那個她(他，它？)。\n",
    "# 阿宅的好朋友被阿宅的精神所感動，於是他就買了一部如何擺脫單身的教學影片給阿宅。\n",
    "# (一片好像要一千多塊錢，真是搶劫! 這不是重點)。\n",
    "# 於是阿宅努力的開始認真學習。由於影片很長，而有不少資訊其實阿宅很早就知道了，\n",
    "# 所以他打算直接用遙控器快轉到重點部分。\n",
    "# 已知，片的重點從影片的第L秒開始，而現在阿宅在影片的第S秒。\n",
    "# 已知阿宅按一次快轉會快轉5秒，而如果超過了第L秒阿宅就需要倒帶,按倒帶一次會回去前2秒。\n",
    "# PS:如果現在阿宅在1秒，但是他要按倒帶的話，會不成功,因爲影片沒有負數秒。所以那次的操作不算。\n",
    "# 請問阿宅需要最少按幾次才能到達第L秒呢？已知按遙控器時影片時暫停的。\n",
    "\n",
    "# 舉例：\n",
    "# 假設重點在第 L=8 秒開始，而阿宅在 第 S=4 秒，\n",
    "# 阿宅按快轉一次，到9秒，倒帶一次到第7秒。在快轉一次到第12秒，最後倒掉兩次到第8秒。\n",
    "# 所以阿宅最少需要按5次才會到重點\n",
    "\n",
    "# 輸入兩個整數 L，S代表重點的秒數和阿宅現在在第幾秒, 0\n",
    "# 輸出 一個整數，阿宅最少需要按多少次才能到重點\n",
    "\n",
    "# 驗證 8 4 5 # 10 0 2 # 21 27 3"
   ]
  },
  {
   "cell_type": "code",
   "execution_count": 40,
   "metadata": {
    "collapsed": true
   },
   "outputs": [],
   "source": [
    "# 三數簡易計算\n",
    "# 撰寫一個程式，先從鍵盤輸入三個整數，\n",
    "# 然後顯示此三個整數的總和、平均值、乘積、最小值和最大值。螢幕的對話過程應該如下所述"
   ]
  },
  {
   "cell_type": "code",
   "execution_count": 43,
   "metadata": {},
   "outputs": [],
   "source": [
    "# 引入模組+格式化輸出\n",
    "# 台北市公館大學某系某科的段考特別難，老師決定幫大家調分，調分規則如下：\n",
    "# 原始分數開根號乘以10\n",
    "\n",
    "# Input Format\n",
    "# Output Format\n",
    "# Original: 分數 (小數點後2位)\n",
    "# Adjusted: 分數(+差幾分(四捨五入至整數)) (小數點後2位)\n",
    "\n",
    "# 36\n",
    "# Original: 36.00\n",
    "# Adjusted: 60.00(+24)"
   ]
  },
  {
   "cell_type": "code",
   "execution_count": 44,
   "metadata": {
    "collapsed": true
   },
   "outputs": [],
   "source": [
    "# \n",
    "# 打(Dozen)是日常生活中常用的單字，為英制單位代表12個。\n",
    "# 如：1打雞蛋等同於12顆雞蛋。\n",
    "# 會被使用是因為生活中便於分配的結果，12可以被1,2,3,4,6整除；而10只能被1,2,5整除。\n",
    "\n",
    "# 今天令使用者輸入一個整數(int)，我們將數字轉換成打(Dozen)。\n",
    "# 例如：25 = 2 dozen and 1\n",
    "# 25\n",
    "# 2 dozen and 1\n"
   ]
  },
  {
   "cell_type": "code",
   "execution_count": null,
   "metadata": {
    "collapsed": true
   },
   "outputs": [],
   "source": [
    "# 雞兔同籠\n",
    "# 王老先生有塊地（yi~ya~yi~ya~oh~）\n",
    "# 王老先生在他那塊土地上養了許多的動物。\n",
    "# 有一天王老先生一醒來發現雞和兔子的籠子之間破了一個洞。\n",
    "# 導致雞和兔子的籠子相通了，所以他們互相亂串。\n",
    "# 這下可麻煩了，王老先生算不到他們的數量，所以他要求你來幫他的忙。\n",
    "# 由於王老先生視力衰退，所以衹能夠算到這兩個籠子裏一共有多少個頭和多少只脚。\n",
    "# 所以要你來判斷裏面一共有多少只雞和兔子。\n",
    "# 已知王老先生養的每一只動物都是健康的，所以每隻雞都有2只脚，每隻兔子都有4只脚。\n",
    "# 由於王老先生視力衰退，所以有時候也會有看錯的情況，如果看錯了就輸出 \"NO\" ,反之\"YES\" (都是大寫)\n",
    "\n",
    "# 舉例：\n",
    "# 現在王老先生看到5個頭，14只脚，\n",
    "# 所以雞就有3只，兔子有2只。\n",
    "# 如果王老先生看到的數量無解，就輸出 \"NO\"\n",
    "\n",
    "# 4 10\n",
    "# YES\n",
    "# 3 1"
   ]
  }
 ],
 "metadata": {
  "kernelspec": {
   "display_name": "Python 3",
   "language": "python",
   "name": "python3"
  },
  "language_info": {
   "codemirror_mode": {
    "name": "ipython",
    "version": 3
   },
   "file_extension": ".py",
   "mimetype": "text/x-python",
   "name": "python",
   "nbconvert_exporter": "python",
   "pygments_lexer": "ipython3",
   "version": "3.6.1"
  }
 },
 "nbformat": 4,
 "nbformat_minor": 2
}

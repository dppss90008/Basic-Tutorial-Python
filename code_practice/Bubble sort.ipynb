{
 "cells": [
  {
   "cell_type": "code",
   "execution_count": 36,
   "metadata": {},
   "outputs": [
    {
     "name": "stdout",
     "output_type": "stream",
     "text": [
      "[1, 2, 3, 4, 5, 8, 23, 30, 60, 77, 89, 123]\n"
     ]
    }
   ],
   "source": [
    "seq = [2,89,1,30,123,60,8,5,4,3,77,23]\n",
    "\n",
    "for j in range(len(seq)):\n",
    "    for i in range(len(seq)-1-j):\n",
    "        #print(i,i+1)\n",
    "        if seq[i] > seq[i+1]:\n",
    "            temp = seq[i+1]\n",
    "            seq[i+1] = seq[i]\n",
    "            seq[i] = temp\n",
    "        \n",
    "print(seq)"
   ]
  },
  {
   "cell_type": "code",
   "execution_count": 19,
   "metadata": {},
   "outputs": [
    {
     "name": "stdout",
     "output_type": "stream",
     "text": [
      "3 9 32\n"
     ]
    }
   ],
   "source": [
    "#a = eval(input())\n",
    "#b = eval(input())\n",
    "#c = eval(input())\n",
    "a,b,c = 32,9,3\n",
    "\n",
    "if b<a:\n",
    "    a,b = b,a\n",
    "if c<a:\n",
    "    a,c = c,a\n",
    "if c<b:\n",
    "    b,c = c,b\n",
    "print(a,b,c)"
   ]
  },
  {
   "cell_type": "code",
   "execution_count": 56,
   "metadata": {},
   "outputs": [
    {
     "name": "stdout",
     "output_type": "stream",
     "text": [
      "*****\n",
      "****\n",
      "***\n",
      "**\n",
      "*\n"
     ]
    }
   ],
   "source": [
    "for i in range(1,6):\n",
    "    for j in range(1,7-i):\n",
    "        print(\"*\",end=\"\",sep=\"\")\n",
    "    print()\n"
   ]
  },
  {
   "cell_type": "code",
   "execution_count": 57,
   "metadata": {},
   "outputs": [
    {
     "name": "stdout",
     "output_type": "stream",
     "text": [
      "*  *  *  *  *  \n",
      "*  *  *  *  *  \n",
      "*  *  *  *  *  \n",
      "*  *  *  *  *  \n",
      "*  *  *  *  *  \n",
      "\n",
      "*  *  *  *  *  \n",
      "*           *  \n",
      "*           *  \n",
      "*           *  \n",
      "*  *  *  *  *  \n"
     ]
    }
   ],
   "source": [
    "for i in range(5):\n",
    "\n",
    "    print(\"*  \"*5)\n",
    "print()\n",
    "for i in range(4):\n",
    "    if i == 0:\n",
    "        print(\"*  \" * 5)\n",
    "    if i ==3:\n",
    "        print(\"*  \" * 5)\n",
    "        continue\n",
    "    for j in range(5):\n",
    "        if j == 0:\n",
    "            print(\"*  \",end=\" \")\n",
    "        if j == 4:\n",
    "            print(\"*  \")\n",
    "        else:\n",
    "            print(\"  \",end=\"\")\n"
   ]
  },
  {
   "cell_type": "code",
   "execution_count": null,
   "metadata": {},
   "outputs": [],
   "source": []
  }
 ],
 "metadata": {
  "kernelspec": {
   "display_name": "Python 3",
   "language": "python",
   "name": "python3"
  },
  "language_info": {
   "codemirror_mode": {
    "name": "ipython",
    "version": 3
   },
   "file_extension": ".py",
   "mimetype": "text/x-python",
   "name": "python",
   "nbconvert_exporter": "python",
   "pygments_lexer": "ipython3",
   "version": "3.7.0"
  }
 },
 "nbformat": 4,
 "nbformat_minor": 2
}

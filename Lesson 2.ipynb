{
 "cells": [
  {
   "cell_type": "code",
   "execution_count": 12,
   "metadata": {},
   "outputs": [
    {
     "name": "stdout",
     "output_type": "stream",
     "text": [
      "1 2 3\n",
      "1@2@3\n",
      "Hello\n",
      "World\n",
      "HelloWorld\n"
     ]
    }
   ],
   "source": [
    "## python 如何輸出一串文字??\n",
    "# 使用 print function\n",
    "# 查看 print 說明文件\n",
    "# ? print\n",
    "# help(print)\n",
    "\n",
    "# print(value, ..., sep=' ', end='\\n', file=sys.stdout, flush=False)\n",
    "# print(\"字串\",sep='以什麼為分隔符號',end='輸出完這句要幹嘛')\n",
    "\n",
    "print(1,2,3)\n",
    "print(1,2,3,sep=\"@\")\n",
    "\n",
    "# 比較一下兩個有什麼不同?\n",
    "print(\"Hello\")\n",
    "print(\"World\")\n",
    "\n",
    "print(\"Hello\",end=\"\")\n",
    "print(\"World\")"
   ]
  },
  {
   "cell_type": "markdown",
   "metadata": {},
   "source": [
    "#### 跳脫字元\n",
    "有某些字是無法輸出的 這時候要靠 \\ 這個符號\n",
    "\n",
    "| 字元|\t意義|\n",
    "| ------ | ----------- | \n",
    "|\\'|\t單引號|\n",
    "|\\\"|\t雙引號|\n",
    "|\\\\|\t反斜線|\n",
    "|\\0|\t空字元(NULL)|\n",
    "|\\t\t|定位字元(TAB)|\n",
    "|\\n\t|換行字元(ENTER)|"
   ]
  },
  {
   "cell_type": "code",
   "execution_count": 19,
   "metadata": {},
   "outputs": [
    {
     "name": "stdout",
     "output_type": "stream",
     "text": [
      "a\ta\n",
      "b\n",
      "b\n",
      "\\n\n",
      "'\n"
     ]
    }
   ],
   "source": [
    "# 跳脫字元\n",
    "print(\"a\\ta\")\n",
    "print(\"b\\nb\")\n",
    "print(\"\\\\n\")\n",
    "print(\"\\'\")"
   ]
  },
  {
   "cell_type": "code",
   "execution_count": 26,
   "metadata": {},
   "outputs": [
    {
     "name": "stdout",
     "output_type": "stream",
     "text": [
      "23\n",
      "23\n",
      "<class 'str'>\n",
      "<class 'int'>\n",
      "<class 'float'>\n",
      "<class 'str'>\n"
     ]
    }
   ],
   "source": [
    "## 如何輸入資料?\n",
    "\n",
    "A = input()\n",
    "print(A)\n",
    "# 看一下你輸入的型態\n",
    "print(type(A))\n",
    "\n",
    "# 如何改變型態\n",
    "A = int(A)\n",
    "print(type(A))\n",
    "\n",
    "A = float(A)\n",
    "print(type(A))\n",
    "\n",
    "A = str(A)\n",
    "print(type(A))\n"
   ]
  },
  {
   "cell_type": "code",
   "execution_count": 27,
   "metadata": {},
   "outputs": [
    {
     "name": "stdout",
     "output_type": "stream",
     "text": [
      "請輸入一個數字23\n"
     ]
    }
   ],
   "source": [
    "# input 小技巧\n",
    "X = input(\"請輸入一個數字\")"
   ]
  },
  {
   "cell_type": "code",
   "execution_count": 38,
   "metadata": {},
   "outputs": [
    {
     "name": "stdout",
     "output_type": "stream",
     "text": [
      "5+5= 10\n",
      "2-2= 0\n",
      "3*2= 6\n",
      "34/17= 578\n",
      "35%17= 1\n",
      "35//17= 2\n",
      "False\n",
      "True\n",
      "True\n"
     ]
    }
   ],
   "source": [
    "# 算數運算子\n",
    "\n",
    "# 加法\n",
    "print(\"5+5=\",5+5)\n",
    "# 減法\n",
    "print(\"2-2=\",2-2)\n",
    "# 乘法\n",
    "print(\"3*2=\",3*2)\n",
    "# 除法\n",
    "print(\"34/17=\",34*17)\n",
    "# 取餘數\n",
    "print(\"35%17=\",35%17)\n",
    "# 取商數\n",
    "print(\"35//17=\",35//17)\n",
    "\n",
    "# 邏輯運算子\n",
    "# 可以表示是非對錯\n",
    "A = True\n",
    "B = False\n",
    "\n",
    "# 關係運算子 = 判斷出來的東西以 True False 表示\n",
    "# >大於 <小於 <=小於等於 >=大於等於 ==是否相同 !=不同\n",
    "print(3>5)\n",
    "print(4==4)\n",
    "print(5!=3)\n",
    "\n",
    "# 賦值運算子 就是 等號 = \n",
    "a = 5\n",
    "# 說明: 將5這個數字賦予給a這個變數\n",
    "# 錯誤寫法 5 = a\n"
   ]
  },
  {
   "cell_type": "code",
   "execution_count": 42,
   "metadata": {},
   "outputs": [
    {
     "name": "stdout",
     "output_type": "stream",
     "text": [
      "一開始 A: 5 B: 9\n",
      "交換後 A: 9 B: 5\n",
      "再交換一次 A: 5 B: 9\n"
     ]
    }
   ],
   "source": [
    "# 數字交換\n",
    "# 現在 A 這個變數 存 5 B這個變數 存 9\n",
    "# 如何將 A B 裡面數字交換 ??\n",
    "# A = 5\n",
    "# B = 9\n",
    "# 打某些CODE\n",
    "# A = 9\n",
    "# B = 5\n",
    "\n",
    "A = 5\n",
    "B = 9\n",
    "print(\"一開始 A:\",A,\"B:\",B)\n",
    "\n",
    "Temp = A # 先把A裡面的數字暫時存起來\n",
    "A = B # 把B的數字放到A裡面\n",
    "B = Temp # 最後將Temp的數字放到B裡面[Temp存有一開始的A數字]\n",
    "print(\"交換後 A:\",A,\"B:\",B)\n",
    "\n",
    "## 另外一種作法\n",
    "A,B = B,A\n",
    "print(\"再交換一次 A:\",A,\"B:\",B)"
   ]
  },
  {
   "cell_type": "code",
   "execution_count": 43,
   "metadata": {},
   "outputs": [
    {
     "name": "stdout",
     "output_type": "stream",
     "text": [
      "3.141592653589793\n"
     ]
    }
   ],
   "source": [
    "# 引用套件方式\n",
    "# python是一種站在巨人肩膀上的語言\n",
    "# 有很多厲害的人開發很多工具方便使用\n",
    "# 想知道pi 是多少 3.1415926??\n",
    "\n",
    "import math # 引用套件\n",
    "print(math.pi)"
   ]
  },
  {
   "cell_type": "code",
   "execution_count": 4,
   "metadata": {},
   "outputs": [
    {
     "name": "stdout",
     "output_type": "stream",
     "text": [
      "3\n",
      "['apple', 'pineapple', 'orange']\n",
      "['apple', 'pineapple', 'orange', 'peach']\n",
      "['apple', 'orange', 'peach']\n",
      "['apple', 'orange', 'peach', 'apple1', 'apple2']\n",
      "['apple', 'orange', 'peach', 'apple2']\n",
      "['apple', 'orange', 'apple3', 'peach', 'apple2']\n"
     ]
    }
   ],
   "source": [
    "fruit = [\"apple\",\"pineapple\",\"orange\"]\n",
    "# 印出陣列內有多少東西\n",
    "print(len(fruit))\n",
    "print(fruit)\n",
    "\n",
    "# 新增東西\n",
    "fruit.append(\"peach\")\n",
    "print(fruit)\n",
    "\n",
    "# 去除東西\n",
    "fruit.pop(1)\n",
    "print(fruit)\n",
    "\n",
    "# 延伸東西\n",
    "fruit.extend([\"apple1\",\"apple2\"])\n",
    "print(fruit)\n",
    "\n",
    "fruit.remove(\"apple1\")\n",
    "print(fruit)\n",
    "\n",
    "fruit.insert(2,\"apple3\")\n",
    "print(fruit)"
   ]
  },
  {
   "cell_type": "code",
   "execution_count": 55,
   "metadata": {},
   "outputs": [
    {
     "name": "stdout",
     "output_type": "stream",
     "text": [
      "88\n",
      "1\n",
      "136\n",
      "[1, 2, 4, 5, 6, 7, 23, 88]\n",
      "[2, 5, 7, 23, 1, 6, 88, 4]\n",
      "[1, 2, 4, 5, 6, 7, 23, 88]\n"
     ]
    }
   ],
   "source": [
    "number = [2,5,7,23,1,6,88,4]\n",
    "# 找最大值\n",
    "print(max(number))\n",
    "# 找最小值\n",
    "print(min(number))\n",
    "# 總和\n",
    "print(sum(number))\n",
    "# 排列\n",
    "number.sort() # 從小到大排列後 放回原本number list\n",
    "number\n",
    "\n",
    "number = [2,5,7,23,1,6,88,4]\n",
    "print(sorted(number)) # 這個方法也排列了 但是不會放在原本number list\n",
    "print(number)\n",
    "new = sorted(number)\n",
    "print(new)"
   ]
  },
  {
   "cell_type": "code",
   "execution_count": null,
   "metadata": {
    "collapsed": true
   },
   "outputs": [],
   "source": []
  }
 ],
 "metadata": {
  "kernelspec": {
   "display_name": "Python 3",
   "language": "python",
   "name": "python3"
  },
  "language_info": {
   "codemirror_mode": {
    "name": "ipython",
    "version": 3
   },
   "file_extension": ".py",
   "mimetype": "text/x-python",
   "name": "python",
   "nbconvert_exporter": "python",
   "pygments_lexer": "ipython3",
   "version": "3.6.1"
  }
 },
 "nbformat": 4,
 "nbformat_minor": 2
}
